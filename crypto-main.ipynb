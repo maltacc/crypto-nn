{
 "cells": [
  {
   "cell_type": "code",
   "execution_count": 1,
   "id": "1bbf525d",
   "metadata": {
    "scrolled": true
   },
   "outputs": [],
   "source": [
    "import pandas as pd\n",
    "import os\n",
    "from sklearn import preprocessing\n",
    "from collections import deque\n",
    "import random\n",
    "import numpy as np"
   ]
  },
  {
   "cell_type": "code",
   "execution_count": 2,
   "id": "e35bdcd8",
   "metadata": {},
   "outputs": [
    {
     "name": "stderr",
     "output_type": "stream",
     "text": [
      "2023-01-11 18:06:44.349716: I tensorflow/core/platform/cpu_feature_guard.cc:193] This TensorFlow binary is optimized with oneAPI Deep Neural Network Library (oneDNN) to use the following CPU instructions in performance-critical operations:  SSE4.1 SSE4.2\n",
      "To enable them in other operations, rebuild TensorFlow with the appropriate compiler flags.\n"
     ]
    }
   ],
   "source": [
    "import time\n",
    "import tensorflow as tf\n",
    "from tensorflow.keras.models import Sequential\n",
    "from tensorflow.keras.layers import Dense, Dropout, LSTM, BatchNormalization\n",
    "from tensorflow.keras.callbacks import TensorBoard, ModelCheckpoint"
   ]
  },
  {
   "cell_type": "code",
   "execution_count": 3,
   "id": "df377c7b",
   "metadata": {},
   "outputs": [],
   "source": [
    "SEQ_LEN = 60\n",
    "FUTURE_PERIOD_PREDICT = 3\n",
    "RATIO_TO_PREDICT = 'LTC-USD'\n",
    "EPOCHS = 10\n",
    "BATCH_SIZE = 64\n",
    "NAME = f'{RATIO_TO_PREDICT}-{SEQ_LEN}-SEQ-{FUTURE_PERIOD_PREDICT}-PRED-{int(time.time())}'"
   ]
  },
  {
   "cell_type": "code",
   "execution_count": 4,
   "id": "cdc24669",
   "metadata": {},
   "outputs": [],
   "source": [
    "from imblearn.over_sampling import SMOTE\n",
    "\n",
    "def preprocess(df): \n",
    "    df = df.drop('future', axis=1)\n",
    "    for col in df.columns: \n",
    "        if col != 'target':\n",
    "            # data normalization\n",
    "            df[col] = df[col].pct_change()\n",
    "            # data scaling\n",
    "            df[col] = preprocessing.scale(df[col].values)\n",
    "    \n",
    "    df.dropna(inplace=True)\n",
    "    \n",
    "    sequential_data = []\n",
    "    prev_days = deque(maxlen=SEQ_LEN)\n",
    "    # convert df to array\n",
    "    for i in df.values: \n",
    "        # features\n",
    "        prev_days.append([n for n in i[:-1]]) # exclude target col\n",
    "        if len(prev_days) == SEQ_LEN: \n",
    "            sequential_data.append([np.array(prev_days), i[-1]])\n",
    "    random.shuffle(sequential_data)\n",
    "        \n",
    "    # SMOTE to prevent undersampling of buys\n",
    "\n",
    "    seq_array = np.array([a[0] for a in sequential_data])\n",
    "    target_list = [b[1] for b in sequential_data]\n",
    "    target_list = [1 if b else 0 for b in target_list]\n",
    "    \n",
    "    nsamples, nx, ny = seq_array.shape\n",
    "    seq_array = seq_array.reshape((nsamples, nx*ny))\n",
    "    \n",
    "    sm = SMOTE(random_state=42)\n",
    "    X_res, y_res = sm.fit_resample(seq_array, target_list)\n",
    "    \n",
    "    return X_res, y_res"
   ]
  },
  {
   "cell_type": "code",
   "execution_count": 5,
   "id": "a8fa6f7c",
   "metadata": {},
   "outputs": [
    {
     "name": "stdout",
     "output_type": "stream",
     "text": [
      "            LTC-USD_close  LTC-USD_volume  BTC-USD_close  BTC-USD_volume  \\\n",
      "time                                                                       \n",
      "1528968720      96.660004      314.387024    6487.379883        7.706374   \n",
      "1528968780      96.570000       77.129799    6479.410156        3.088252   \n",
      "1528968840      96.500000        7.216067    6479.410156        1.404100   \n",
      "1528968900      96.389999      524.539978    6479.979980        0.753000   \n",
      "1528968960      96.519997       16.991997    6480.000000        1.490900   \n",
      "\n",
      "            ETH-USD_close  ETH-USD_volume  BCH-USD_close  BCH-USD_volume  \n",
      "time                                                                      \n",
      "1528968720      486.01001       26.019083     870.859985       26.856577  \n",
      "1528968780      486.00000        8.449400     870.099976        1.124300  \n",
      "1528968840      485.75000       26.994646     870.789978        1.749862  \n",
      "1528968900      486.00000       77.355759     870.000000        1.680500  \n",
      "1528968960      486.00000        7.503300     869.989990        1.669014  \n"
     ]
    }
   ],
   "source": [
    "# stores the merged csvs\n",
    "joined_df = pd.DataFrame() \n",
    "\n",
    "ratios = ['LTC-USD','BTC-USD','ETH-USD','BCH-USD']\n",
    "\n",
    "for ratio in ratios:\n",
    "    # path to each csv\n",
    "    dataset = f'crypto_data/{ratio}.csv'\n",
    "    df = pd.read_csv(dataset, names=['time', 'low', 'high', 'open', 'close', 'volume'])\n",
    "    \n",
    "    # rename columns to prevent errors when merging\n",
    "    df.rename(columns={'close': f'{ratio}_close', 'volume': f'{ratio}_volume'}, inplace=True)\n",
    "    \n",
    "    # set a common index time\n",
    "    df.set_index('time', inplace=True)\n",
    "    df = df[[f'{ratio}_close', f'{ratio}_volume']]\n",
    "    \n",
    "    # join dataframes\n",
    "    if len(joined_df): \n",
    "        joined_df = joined_df.join(df)\n",
    "    else:\n",
    "        joined_df = df\n",
    "\n",
    "joined_df.fillna(method='ffill', inplace=True)\n",
    "joined_df.dropna(inplace=True)\n",
    "print(joined_df.head())"
   ]
  },
  {
   "cell_type": "code",
   "execution_count": 6,
   "id": "848c8b0c",
   "metadata": {},
   "outputs": [],
   "source": [
    "joined_df['future'] = joined_df[f'{RATIO_TO_PREDICT}_close'].shift(-FUTURE_PERIOD_PREDICT)"
   ]
  },
  {
   "cell_type": "code",
   "execution_count": 7,
   "id": "1baee563",
   "metadata": {},
   "outputs": [
    {
     "name": "stdout",
     "output_type": "stream",
     "text": [
      "time\n",
      "1528968720    False\n",
      "1528968780    False\n",
      "1528968840    False\n",
      "1528968900     True\n",
      "1528968960    False\n",
      "              ...  \n",
      "1535215020     True\n",
      "1535215080     True\n",
      "1535215140    False\n",
      "1535215200    False\n",
      "1535215260    False\n",
      "Name: target, Length: 101882, dtype: bool\n"
     ]
    }
   ],
   "source": [
    "# create target column to identify targets with future prices greater than current prices\n",
    "joined_df['target'] = joined_df[f'{RATIO_TO_PREDICT}_close'] < joined_df['future']\n",
    "print(joined_df['target'])"
   ]
  },
  {
   "cell_type": "code",
   "execution_count": 8,
   "id": "ec6c59d3",
   "metadata": {},
   "outputs": [
    {
     "name": "stdout",
     "output_type": "stream",
     "text": [
      "1533977280\n"
     ]
    }
   ],
   "source": [
    "times = sorted(joined_df.index.values)\n",
    "\n",
    "last_20percent = times[-int(0.2*len(times))]\n",
    "print(last_20percent)"
   ]
  },
  {
   "cell_type": "code",
   "execution_count": 9,
   "id": "7b7dd541",
   "metadata": {},
   "outputs": [],
   "source": [
    "# split data into training and validation sets using an 80-20 split\n",
    "val_joined_df = joined_df[joined_df.index >= last_20percent]\n",
    "joined_df = joined_df[joined_df.index < last_20percent]"
   ]
  },
  {
   "cell_type": "code",
   "execution_count": 10,
   "id": "b11428b1",
   "metadata": {},
   "outputs": [],
   "source": [
    "X_train, y_train = preprocess(joined_df)\n",
    "X_val, y_val = preprocess(val_joined_df)"
   ]
  },
  {
   "cell_type": "code",
   "execution_count": 11,
   "id": "1016bd75",
   "metadata": {},
   "outputs": [
    {
     "name": "stdout",
     "output_type": "stream",
     "text": [
      "training data: 94966 validation: 22892\n",
      "do not buy: 47483, buy: 47483\n",
      "validation do not buy: 11446, buy: 11446\n"
     ]
    }
   ],
   "source": [
    "print(f'training data: {len(X_train)} validation: {len(X_val)}')\n",
    "print (f'do not buy: {y_train.count(0)}, buy: {y_train.count(1)}')\n",
    "print(f'validation do not buy: {y_val.count(0)}, buy: {y_val.count(1)}')"
   ]
  },
  {
   "cell_type": "code",
   "execution_count": 12,
   "id": "fc70979f",
   "metadata": {},
   "outputs": [
    {
     "data": {
      "text/plain": [
       "(94966, 480)"
      ]
     },
     "execution_count": 12,
     "metadata": {},
     "output_type": "execute_result"
    }
   ],
   "source": [
    "X_train.shape"
   ]
  },
  {
   "cell_type": "code",
   "execution_count": 13,
   "id": "507583bd",
   "metadata": {},
   "outputs": [
    {
     "name": "stdout",
     "output_type": "stream",
     "text": [
      "(94966, 480, 1)\n",
      "(22892, 480, 1)\n"
     ]
    }
   ],
   "source": [
    "from numpy import newaxis \n",
    "X_train = X_train[:, :, newaxis]\n",
    "X_val = X_val[:, :, newaxis]\n",
    "print(X_train.shape)\n",
    "print(X_val.shape)"
   ]
  },
  {
   "cell_type": "code",
   "execution_count": 14,
   "id": "8ae8750e",
   "metadata": {},
   "outputs": [
    {
     "name": "stderr",
     "output_type": "stream",
     "text": [
      "2023-01-11 18:07:00.982055: I tensorflow/core/platform/cpu_feature_guard.cc:193] This TensorFlow binary is optimized with oneAPI Deep Neural Network Library (oneDNN) to use the following CPU instructions in performance-critical operations:  SSE4.1 SSE4.2\n",
      "To enable them in other operations, rebuild TensorFlow with the appropriate compiler flags.\n"
     ]
    },
    {
     "name": "stdout",
     "output_type": "stream",
     "text": [
      "Model: \"sequential\"\n",
      "_________________________________________________________________\n",
      " Layer (type)                Output Shape              Param #   \n",
      "=================================================================\n",
      " lstm (LSTM)                 (None, 480, 128)          66560     \n",
      "                                                                 \n",
      " dropout (Dropout)           (None, 480, 128)          0         \n",
      "                                                                 \n",
      " batch_normalization (BatchN  (None, 480, 128)         512       \n",
      " ormalization)                                                   \n",
      "                                                                 \n",
      " lstm_1 (LSTM)               (None, 480, 128)          131584    \n",
      "                                                                 \n",
      " dropout_1 (Dropout)         (None, 480, 128)          0         \n",
      "                                                                 \n",
      " batch_normalization_1 (Batc  (None, 480, 128)         512       \n",
      " hNormalization)                                                 \n",
      "                                                                 \n",
      " lstm_2 (LSTM)               (None, 128)               131584    \n",
      "                                                                 \n",
      " dropout_2 (Dropout)         (None, 128)               0         \n",
      "                                                                 \n",
      " batch_normalization_2 (Batc  (None, 128)              512       \n",
      " hNormalization)                                                 \n",
      "                                                                 \n",
      " dense (Dense)               (None, 32)                4128      \n",
      "                                                                 \n",
      " dropout_3 (Dropout)         (None, 32)                0         \n",
      "                                                                 \n",
      " dense_1 (Dense)             (None, 2)                 66        \n",
      "                                                                 \n",
      "=================================================================\n",
      "Total params: 335,458\n",
      "Trainable params: 334,690\n",
      "Non-trainable params: 768\n",
      "_________________________________________________________________\n"
     ]
    }
   ],
   "source": [
    "\n",
    "model = Sequential() \n",
    "\n",
    "model.add(LSTM(128, input_shape=(X_train.shape[1:]), return_sequences=True))\n",
    "model.add(Dropout(0.2))\n",
    "model.add(BatchNormalization())\n",
    "\n",
    "model.add(LSTM(128, return_sequences=True))\n",
    "model.add(Dropout(0.2))\n",
    "model.add(BatchNormalization())\n",
    "\n",
    "model.add(LSTM(128))\n",
    "model.add(Dropout(0.2))\n",
    "model.add(BatchNormalization())\n",
    "\n",
    "model.add(Dense(32, activation='relu'))\n",
    "model.add(Dropout(0.2))\n",
    "\n",
    "model.add(Dense(2, activation='softmax'))\n",
    "\n",
    "model.summary()"
   ]
  },
  {
   "cell_type": "code",
   "execution_count": 15,
   "id": "9bab2c64",
   "metadata": {},
   "outputs": [],
   "source": [
    "# Binary choice so 2 output channels\n",
    "model.add(Dense(2, activation='softmax'))\n",
    "\n",
    "optimizer = tf.keras.optimizers.SGD(learning_rate=0.001, decay=1e-6)\n",
    "model.compile(loss='sparse_categorical_crossentropy',\n",
    "             optimizer=optimizer, \n",
    "             metrics=['accuracy'])"
   ]
  },
  {
   "cell_type": "code",
   "execution_count": 16,
   "id": "58c2da70",
   "metadata": {},
   "outputs": [],
   "source": [
    "tensorboard = TensorBoard(log_dir=f'logs/{NAME}')\n",
    "\n",
    "filepath = 'RNN_Final-{epoch:02d}-{val_accuracy:.3f}'\n",
    "checkpoint = ModelCheckpoint('models/{}.model'.format(filepath, monitor='val_accuracy', verbose=1, save_best_only=True, mode='max'))"
   ]
  },
  {
   "cell_type": "code",
   "execution_count": null,
   "id": "80b03808",
   "metadata": {
    "scrolled": false
   },
   "outputs": [
    {
     "name": "stdout",
     "output_type": "stream",
     "text": [
      "Epoch 1/10\n",
      "1484/1484 [==============================] - ETA: 0s - loss: 0.7351 - accuracy: 0.5000"
     ]
    },
    {
     "name": "stderr",
     "output_type": "stream",
     "text": [
      "WARNING:absl:Found untraced functions such as lstm_cell_layer_call_fn, lstm_cell_layer_call_and_return_conditional_losses, lstm_cell_1_layer_call_fn, lstm_cell_1_layer_call_and_return_conditional_losses, lstm_cell_2_layer_call_fn while saving (showing 5 of 6). These functions will not be directly callable after loading.\n"
     ]
    },
    {
     "name": "stdout",
     "output_type": "stream",
     "text": [
      "INFO:tensorflow:Assets written to: models/RNN_Final-01-0.500.model/assets\n"
     ]
    },
    {
     "name": "stderr",
     "output_type": "stream",
     "text": [
      "INFO:tensorflow:Assets written to: models/RNN_Final-01-0.500.model/assets\n"
     ]
    },
    {
     "name": "stdout",
     "output_type": "stream",
     "text": [
      "1484/1484 [==============================] - 1722s 1s/step - loss: 0.7351 - accuracy: 0.5000 - val_loss: 0.6978 - val_accuracy: 0.5000\n",
      "Epoch 2/10\n",
      "1484/1484 [==============================] - ETA: 0s - loss: 0.6967 - accuracy: 0.5015"
     ]
    },
    {
     "name": "stderr",
     "output_type": "stream",
     "text": [
      "WARNING:absl:Found untraced functions such as lstm_cell_layer_call_fn, lstm_cell_layer_call_and_return_conditional_losses, lstm_cell_1_layer_call_fn, lstm_cell_1_layer_call_and_return_conditional_losses, lstm_cell_2_layer_call_fn while saving (showing 5 of 6). These functions will not be directly callable after loading.\n"
     ]
    },
    {
     "name": "stdout",
     "output_type": "stream",
     "text": [
      "INFO:tensorflow:Assets written to: models/RNN_Final-02-0.516.model/assets\n"
     ]
    },
    {
     "name": "stderr",
     "output_type": "stream",
     "text": [
      "INFO:tensorflow:Assets written to: models/RNN_Final-02-0.516.model/assets\n"
     ]
    },
    {
     "name": "stdout",
     "output_type": "stream",
     "text": [
      "1484/1484 [==============================] - 1718s 1s/step - loss: 0.6967 - accuracy: 0.5015 - val_loss: 0.6926 - val_accuracy: 0.5155\n",
      "Epoch 3/10\n",
      "1484/1484 [==============================] - ETA: 0s - loss: 0.6933 - accuracy: 0.5129"
     ]
    },
    {
     "name": "stderr",
     "output_type": "stream",
     "text": [
      "WARNING:absl:Found untraced functions such as lstm_cell_layer_call_fn, lstm_cell_layer_call_and_return_conditional_losses, lstm_cell_1_layer_call_fn, lstm_cell_1_layer_call_and_return_conditional_losses, lstm_cell_2_layer_call_fn while saving (showing 5 of 6). These functions will not be directly callable after loading.\n"
     ]
    },
    {
     "name": "stdout",
     "output_type": "stream",
     "text": [
      "INFO:tensorflow:Assets written to: models/RNN_Final-03-0.513.model/assets\n"
     ]
    },
    {
     "name": "stderr",
     "output_type": "stream",
     "text": [
      "INFO:tensorflow:Assets written to: models/RNN_Final-03-0.513.model/assets\n"
     ]
    },
    {
     "name": "stdout",
     "output_type": "stream",
     "text": [
      "1484/1484 [==============================] - 1713s 1s/step - loss: 0.6933 - accuracy: 0.5129 - val_loss: 0.6923 - val_accuracy: 0.5131\n",
      "Epoch 4/10\n",
      "1484/1484 [==============================] - ETA: 0s - loss: 0.6926 - accuracy: 0.5160"
     ]
    },
    {
     "name": "stderr",
     "output_type": "stream",
     "text": [
      "WARNING:absl:Found untraced functions such as lstm_cell_layer_call_fn, lstm_cell_layer_call_and_return_conditional_losses, lstm_cell_1_layer_call_fn, lstm_cell_1_layer_call_and_return_conditional_losses, lstm_cell_2_layer_call_fn while saving (showing 5 of 6). These functions will not be directly callable after loading.\n"
     ]
    },
    {
     "name": "stdout",
     "output_type": "stream",
     "text": [
      "INFO:tensorflow:Assets written to: models/RNN_Final-04-0.518.model/assets\n"
     ]
    },
    {
     "name": "stderr",
     "output_type": "stream",
     "text": [
      "INFO:tensorflow:Assets written to: models/RNN_Final-04-0.518.model/assets\n"
     ]
    },
    {
     "name": "stdout",
     "output_type": "stream",
     "text": [
      "1484/1484 [==============================] - 3143s 2s/step - loss: 0.6926 - accuracy: 0.5160 - val_loss: 0.6920 - val_accuracy: 0.5180\n",
      "Epoch 5/10\n",
      "1484/1484 [==============================] - ETA: 0s - loss: 0.6924 - accuracy: 0.5194"
     ]
    },
    {
     "name": "stderr",
     "output_type": "stream",
     "text": [
      "WARNING:absl:Found untraced functions such as lstm_cell_layer_call_fn, lstm_cell_layer_call_and_return_conditional_losses, lstm_cell_1_layer_call_fn, lstm_cell_1_layer_call_and_return_conditional_losses, lstm_cell_2_layer_call_fn while saving (showing 5 of 6). These functions will not be directly callable after loading.\n"
     ]
    },
    {
     "name": "stdout",
     "output_type": "stream",
     "text": [
      "INFO:tensorflow:Assets written to: models/RNN_Final-05-0.533.model/assets\n"
     ]
    },
    {
     "name": "stderr",
     "output_type": "stream",
     "text": [
      "INFO:tensorflow:Assets written to: models/RNN_Final-05-0.533.model/assets\n"
     ]
    },
    {
     "name": "stdout",
     "output_type": "stream",
     "text": [
      "1484/1484 [==============================] - 12743s 9s/step - loss: 0.6924 - accuracy: 0.5194 - val_loss: 0.6906 - val_accuracy: 0.5330\n",
      "Epoch 6/10\n",
      "1484/1484 [==============================] - ETA: 0s - loss: 0.6923 - accuracy: 0.5214"
     ]
    },
    {
     "name": "stderr",
     "output_type": "stream",
     "text": [
      "WARNING:absl:Found untraced functions such as lstm_cell_layer_call_fn, lstm_cell_layer_call_and_return_conditional_losses, lstm_cell_1_layer_call_fn, lstm_cell_1_layer_call_and_return_conditional_losses, lstm_cell_2_layer_call_fn while saving (showing 5 of 6). These functions will not be directly callable after loading.\n"
     ]
    },
    {
     "name": "stdout",
     "output_type": "stream",
     "text": [
      "INFO:tensorflow:Assets written to: models/RNN_Final-06-0.537.model/assets\n"
     ]
    },
    {
     "name": "stderr",
     "output_type": "stream",
     "text": [
      "INFO:tensorflow:Assets written to: models/RNN_Final-06-0.537.model/assets\n"
     ]
    },
    {
     "name": "stdout",
     "output_type": "stream",
     "text": [
      "1484/1484 [==============================] - 4069s 3s/step - loss: 0.6923 - accuracy: 0.5214 - val_loss: 0.6898 - val_accuracy: 0.5365\n",
      "Epoch 7/10\n",
      "1484/1484 [==============================] - ETA: 0s - loss: 0.6918 - accuracy: 0.5237"
     ]
    },
    {
     "name": "stderr",
     "output_type": "stream",
     "text": [
      "WARNING:absl:Found untraced functions such as lstm_cell_layer_call_fn, lstm_cell_layer_call_and_return_conditional_losses, lstm_cell_1_layer_call_fn, lstm_cell_1_layer_call_and_return_conditional_losses, lstm_cell_2_layer_call_fn while saving (showing 5 of 6). These functions will not be directly callable after loading.\n"
     ]
    },
    {
     "name": "stdout",
     "output_type": "stream",
     "text": [
      "INFO:tensorflow:Assets written to: models/RNN_Final-07-0.539.model/assets\n"
     ]
    },
    {
     "name": "stderr",
     "output_type": "stream",
     "text": [
      "INFO:tensorflow:Assets written to: models/RNN_Final-07-0.539.model/assets\n"
     ]
    },
    {
     "name": "stdout",
     "output_type": "stream",
     "text": [
      "1484/1484 [==============================] - 1705s 1s/step - loss: 0.6918 - accuracy: 0.5237 - val_loss: 0.6894 - val_accuracy: 0.5387\n",
      "Epoch 8/10\n",
      " 927/1484 [=================>............] - ETA: 9:45 - loss: 0.6912 - accuracy: 0.5260"
     ]
    }
   ],
   "source": [
    "# Train Model \n",
    "\n",
    "history = model.fit(\n",
    "    X_train, np.array(y_train), \n",
    "    batch_size=BATCH_SIZE, \n",
    "    epochs=EPOCHS,\n",
    "    validation_data=(X_val, np.array(y_val)),\n",
    "    callbacks=[tensorboard, checkpoint])"
   ]
  }
 ],
 "metadata": {
  "kernelspec": {
   "display_name": "venv",
   "language": "python",
   "name": "venv"
  },
  "language_info": {
   "codemirror_mode": {
    "name": "ipython",
    "version": 3
   },
   "file_extension": ".py",
   "mimetype": "text/x-python",
   "name": "python",
   "nbconvert_exporter": "python",
   "pygments_lexer": "ipython3",
   "version": "3.10.6"
  }
 },
 "nbformat": 4,
 "nbformat_minor": 5
}
